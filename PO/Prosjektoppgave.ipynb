{
 "cells": [
  {
   "cell_type": "markdown",
   "metadata": {},
   "source": [
    "## Elektrifiseringen av sokkelen - Prosjektoppgave"
   ]
  },
  {
   "cell_type": "markdown",
   "metadata": {},
   "source": [
    "#### Arbeidskrav 1\n",
    "\n",
    " 1. Gjør en vurdering av tiltaket ihht. DFØs veilder og identifiser hvilken informasjon som trengs og hvilke forutsetninger som må gjøres. \n",
    "\n",
    " 2. Innhent informasjon \n",
    "\n",
    " 3. Sette opp en disposisjon/arbeidsplan (bruk veilederen)"
   ]
  },
  {
   "cell_type": "markdown",
   "metadata": {},
   "source": [
    "### Arbeidsfasene \n",
    "\n",
    "1. Beskriv problemet og formuler mål. \n",
    "2. Identifiser og beskriv relevante tiltak. \n",
    "3. Identifiser og beskriv virkinger.\n",
    "4. Tallfest, verdsett og vurder virkninger.\n",
    "5. Vuruder samfunnsøkonomisk lønnsomhet. \n",
    "6. Gjennomfør usikkherhetslanalyse.\n",
    "7. Beskriv fordelingsvirkninger.\n",
    "8. Gi en samlet vurdering og anbefal tilak.\n",
    "\n",
    "Beslutning. \n",
    "\n",
    "### Disposisjon \n",
    "\n",
    "- Beskriv problemet og gi bakgrunns info.\n",
    "\n",
    "Hvordan skal elektrifiseringen foregå, og hva er bakgrunnen for tiltaket. Hvordan og hvorfor?\n",
    "\n",
    "- Sammendrag av hovedfunn og anbefalinger.\n",
    " \n",
    "Gi et sammendrag av de viktigste funnene fra analysen. \n",
    "\n",
    "- Datakilder, metode og andre sentrale forutsetninger.\n",
    "\n",
    "Det er veldig viktig at datene som brukes er lett tilgjengelige, slik at resultatene fra analysen kan etterprøves. \n",
    " \n",
    "- Hva er problemet og hva vil vi oppnå. \n",
    "\n",
    "Beskriv probelemene knyttet til CO2 utslipp på sokkelen, og forklarer målet ved tiltaket. \n",
    "\n",
    "- Hvilke tiltak er relevante?\n",
    "\n",
    "Presenter og beskriv relevante tiltak.\n",
    "\n",
    "- Hvilke prinsipille spørsmål reiser tiltakene?\n",
    "\n",
    "Prinsipielle spørsmål kan innebære å utelukke eller begrunne begrensninger på utformingen av alternative tiltak som er identifisert. \n",
    "\n",
    "- Hva er de positive og negative virknignene av tiltakene, hvor varige er de, og hvem blir berørt?\n",
    "\n",
    "Identifiser virkninger. Tallfest, verdsett og vurder virkninger. Vurder samfunnsøkonomisk lønnsomhet. \n",
    "\n",
    "- Hvilke tiltak anbefales, og hvorfor? \n",
    "\n",
    "Gi en samlet vurdering og anbefal tiltak. Presenter en plan for når og hvordan tiltaket skal evalureres (?)\n",
    "\n",
    "- Hva er forutsetnignene for en vellykket gjennomføring?\n",
    "\n",
    "Synliggjør for beslutningstakeren sentrale forutsetnigner som må være oppfylt for at tiltaket skal lykkes, og utarbeide en gevinstoversikt. \n",
    "\n",
    "- Eventuelle tillegsanalyser: Fordelingsvirkninger, prinsipielle spørsmål, vurdering av graden av måloppnåelse eller målkonflikter og netto ringvirkninger. \n",
    "\n",
    "\n",
    "Hentet fra (DFØ, u.å)"
   ]
  },
  {
   "cell_type": "markdown",
   "metadata": {},
   "source": [
    "## Grovanalyse \n",
    "    \n",
    "1. Hva er problemet, og hva vil vi oppnå?\n",
    "\n",
    "Problemet som denne utredningen skal addressere er utslippene av klimagasser fra olje- og gassektoren og hvordan disse påvirker den nasjonale og globale klimaet. Elektrifiseringen av denne sektoren har som mål å redusere disse utslippene gjennom en overgang fra å bruke fossile brensler offshore til fornybar eller lavutslipp energikilder fra land. Elektrifiseringen tar sikte på å oppnå klimamål i Norge samtidig som å bidra til en reduksjon av europeiske og globale klimagassutslipp via markedsendringer i kraft- og gassmarkedene. \n",
    "\n",
    "2. Hvilke tiltak er relevante?\n",
    "\n",
    "Relevante tiltak er:\n",
    "\n",
    "- Implementering av elektrifiseringsprosjekter på norsk sokkel, som for eksempel å erstatte gassturbiner med kraft fra land. \n",
    "- Øke investeringene i fornybar energi og lavutslipps kraftproduksjon i Europa for å møte det økte kraftbehovet fra norsk sokkel. \n",
    "- Et lavere og mer effektivt energiforbruk offshore for å maksimere klimanytten av elektrifisering. \n",
    "\n",
    "3. Hvilke prinsipielle spørsmål reiser tiltakene?\n",
    "\n",
    "Prinsipielle spørsmål: \n",
    "\n",
    "- Rettferdigheten av kostnadsfordelingen mellom oljeselskapene og samfunnet, spesielt i forhold til hvem som må bære kostnadene for infrastrukturinvesteringer. \n",
    "- Langsiktig holdbarhet og politisk engasjement for å opprettholde støtte til elektrifiseringsprosjekter. \n",
    "- Effeketen av elektrifiserig på karbonlekkasje, hvor reduksjoner i et område kan føre til øke utslipp et annet sted gjennom markedsendringer.\n",
    "\n",
    "Notat:\n",
    "\n",
    "Utredninger av prinsipielle hensyn, inngår ikke i samfunnsøkonomiske analyser, men vil kreve en egen analyse. Videre følger det av Finansdepartementets rundskriv for samfunnsøkonomiske analyser, R-109/2021, at en utredning av eventuelle fordelingsvirkninger og netto ringvirkninger skal tas med som tilleggsanalyser der de er relevante (Direktoratet for forvaltning og økonomistyring (DFØ), u.å.)\n",
    "\n",
    "4. Hva er de positive og negative virkningene av tiltakene, hvor varige er de, og hvem blir berørt? \n",
    "\n",
    "- Positive virkinger: Reduksjon av utslipp av klimagasser i både Norge og Europa, bedre energieffektivietet, og muligens lavere driftskostnader over tid. Disse effektene er tenkt å være varige, spesielt med økt installasjon av fornybar energi. \n",
    "\n",
    "- Negative virkninger: Høye initiale investeringskostander og potensiell økonomisk risiko for oljeselskaper og investorer. Markedsforstyrrelser, som kan inkludere prisendringer i kraftmarkedet kan også oppstå. \n",
    "\n",
    "Blandt de berørete parter er oljeselskaper, norske skattebetalere, leverandørindustrien, og i bredere forstand samfunn i Europa, globalt gitte klimaeffekter, og energimarkedsforhold. Virkningene kan betraktes som langtidsvirkninger.\n",
    "\n",
    "Problemstillinger: \n",
    "\n",
    "Stortingsmeldingen om verdiskaping fra norske energiressurser, den såkalte Energimeldingen, skriver at den globale klimaeffekten av elektrifisering er usikker: «Kraft fra land reduserer utslippene fra norsk sokkel. Effektene på utslippene på kort og lang sikt på europeisk og globalt nivå er mer usikre». \n",
    "\n",
    "Det er uten tvil en usikkerhet knyttet til effektene av elektrifiseringen. Derfor er sentrale problemstillinger:\n",
    "\n",
    "- Vil en kostbar elektrifisering føre til reduserte klimautslipp nasjonalt og globalt?\n",
    "- Hvilken effekt har elektrifiseringen på det globale kraftmarkedet?\n",
    "\n",
    "Videre er det naturlig å stille spørsmål knyttet til de samfunnsøkonomiske effektene:\n",
    "\n",
    "- Er elektrifiseringen samfunnsøkonomisk lønnsom? \n",
    "- Hvor effektivt er tiltaket sammenlignet med andre tiltak fordrer elektrifisering?\n"
   ]
  },
  {
   "cell_type": "markdown",
   "metadata": {},
   "source": [
    "\n",
    "### Grove anslag på de mest sentrale virkningene"
   ]
  },
  {
   "cell_type": "markdown",
   "metadata": {},
   "source": [
    "### Hva er forutsetningene for en vellykket gjennomføring? "
   ]
  },
  {
   "cell_type": "markdown",
   "metadata": {},
   "source": [
    "#### Litteraturhenvisning \n",
    "\n",
    "Direktoratet for forvaltning og økonomistyring (DFØ), u.å. Veileder i samfunnsøkonomiske analyser: En innføring i hvordan statlige tiltak skal utredes. Tilgjengelig på: https://dfo.no/fagomrader/utredning-og-analyse-av-statlige-tiltak/samfunnsokonomiske-analyser/veileder-i-samfunnsokonomiske-analyser/1-en-innforing-i-hvordan-statlige-tiltak-skal-utredes (02.09.2024).\n",
    "\n",
    "Tennbakk, B., Næss Jebsen, S. H., Kirchner, B., & Eriksrud, A. L. (2023). Elektrifisering av olje- og gassektoren – har det global klimaeffekt? Rapportnummer 2022-23. Offshore Norge. Tilgjengelig fra: https://uit-sok-2014-h24.github.io/articles/Veileder_samfunnsokonomiske_analyser_nov23.pdf"
   ]
  }
 ],
 "metadata": {
  "kernelspec": {
   "display_name": "Python 3",
   "language": "python",
   "name": "python3"
  },
  "language_info": {
   "codemirror_mode": {
    "name": "ipython",
    "version": 3
   },
   "file_extension": ".py",
   "mimetype": "text/x-python",
   "name": "python",
   "nbconvert_exporter": "python",
   "pygments_lexer": "ipython3",
   "version": "3.12.0"
  }
 },
 "nbformat": 4,
 "nbformat_minor": 2
}
