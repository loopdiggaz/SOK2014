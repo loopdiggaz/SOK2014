{
 "cells": [
  {
   "cell_type": "markdown",
   "metadata": {},
   "source": [
    "## Elektrifiseringen av sokkelen - Prosjektoppgave"
   ]
  },
  {
   "cell_type": "markdown",
   "metadata": {},
   "source": [
    "#### Arbeidskrav 1\n",
    "\n",
    " 1. Gjør en vurdering av tiltaker ihht. DFØs veilder og identifiser hvilken informasjon som trengs og hvilke forutsetninger som må gjøres. \n",
    "\n",
    " 2. Innhent informasjon \n",
    "\n",
    " 3. Sette opp en disposisjon/arbeidsplan (bruk veilederen)"
   ]
  },
  {
   "cell_type": "markdown",
   "metadata": {},
   "source": []
  }
 ],
 "metadata": {
  "kernelspec": {
   "display_name": "Python 3",
   "language": "python",
   "name": "python3"
  },
  "language_info": {
   "codemirror_mode": {
    "name": "ipython",
    "version": 3
   },
   "file_extension": ".py",
   "mimetype": "text/x-python",
   "name": "python",
   "nbconvert_exporter": "python",
   "pygments_lexer": "ipython3",
   "version": "3.12.0"
  }
 },
 "nbformat": 4,
 "nbformat_minor": 2
}
