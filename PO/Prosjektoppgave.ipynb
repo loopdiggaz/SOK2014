{
 "cells": [
  {
   "cell_type": "markdown",
   "metadata": {},
   "source": [
    "## Elektrifiseringen av sokkelen - Prosjektoppgave"
   ]
  },
  {
   "cell_type": "markdown",
   "metadata": {},
   "source": [
    "#### Arbeidskrav 1\n",
    "\n",
    " 1. Gjør en vurdering av tiltaket ihht. DFØs veilder og identifiser hvilken informasjon som trengs og hvilke forutsetninger som må gjøres. \n",
    "\n",
    " 2. Innhent informasjon \n",
    "\n",
    " 3. Sette opp en disposisjon/arbeidsplan (bruk veilederen)"
   ]
  },
  {
   "cell_type": "markdown",
   "metadata": {},
   "source": [
    "### Grovanalyse \n",
    "    \n",
    "1. Hva er problemet, og hva vil vi oppnå?\n",
    "\n",
    "Problemet som utredningen addresserer er utlsippene av klimagasser fra olje- og gassektoren og hvordan disse påvirker det globale klimaet. Elektrifiseringen av denne sektoren har som mål å redusere disse utslippene gjennom en overgang fra å bruke fossile brensler offshore til fornybar eller lavutslipp energikilder fra land. Elektrifiseringen tar sikte på å oppnå klimamål i Norge samtidig som å bidra til en reduksjon av europeiske og globale klimagassutslipp via markedsendringer i kraft- og gassmarkedene. \n",
    "\n",
    "2. Hvilke tiltak er relevante?\n",
    "\n",
    "Relevante tiltak er:\n",
    "\n",
    "- Implementering av elektrifiseringsprosjekter på norsk sokkel, som for eksempel å erstatte diselgeneratorer med kraft fra land. \n",
    "- Øke investeringene i fornybar energi og lavutslipps kraftproduksjon i Europa for å møte det økte kraftbehovet fra norsk sokkel. \n",
    "- Et lavere og mer effektivt energiforbruk offshore for å maksimere klimanytten av elektrifisering. \n",
    "\n",
    "3. Hvilke prinsipielle spørsmål reiser tiltakene?\n",
    "\n",
    "Prinsipille spørsmål: \n",
    "\n",
    "- Rettferdigheten av kostnadsfordelen mellom oljeselskapene og samfunnet, spesielt i forhold til hvem som bære kostnadene for infrastrukturinvesteringer. \n",
    "- Langsiktig holdbarhet og politisk engasjement for å opprettholde støtte til elektrifiseringsprosjekter. \n",
    "- Effeketn av elektrifiserig på karbonlekkasje, hvor reduksjoner i et område kan føre til øke utslipp et annet sted gjennom markedsendringer. \n",
    "\n",
    "4. Hva er de positive og negative virkningene av tiltakene, hvor varige er de, og hvem blir berørt? \n",
    "\n",
    "- Positive virkinger: Reduksjon av utslipp av klimagasser i både Norge og Europa, bedre energieffektivietet, og muligens lavere driftskostnader over tid. Disse effektene er tenkt å være varige, spesielt med økt installsjon av fornybar energi. \n",
    "\n",
    "- Negative virkninger: Høye initiale investeringskostander og potensiell økonomisk risiko for oljeselskaper og investorer. Markedsforstyrrelser, som kan inkludere prisendringer i kraftmarkedet, kan også oppstå. \n",
    "\n",
    "Blandt de berørete parter er oljeselskaper, norske skattebetalere, leverandørindustrien, og i bredere forstand, samfunn i Europa og globalt gitt klimaeffekter og energimarkedsforhold. \n",
    "\n",
    "### Grove anslag på de mest sentrale virkningene\n"
   ]
  },
  {
   "cell_type": "markdown",
   "metadata": {},
   "source": [
    "#### Litteraturhenvisning \n",
    "\n",
    "Tennbakk, B., Næss Jebsen, S. H., Kirchner, B., & Eriksrud, A. L. (2023). Elektrifisering av olje- og gassektoren – har det global klimaeffekt? Rapportnummer 2022-23. Offshore Norge. Tilgjengelig fra: https://uit-sok-2014-h24.github.io/articles/Veileder_samfunnsokonomiske_analyser_nov23.pdf"
   ]
  }
 ],
 "metadata": {
  "kernelspec": {
   "display_name": "Python 3",
   "language": "python",
   "name": "python3"
  },
  "language_info": {
   "codemirror_mode": {
    "name": "ipython",
    "version": 3
   },
   "file_extension": ".py",
   "mimetype": "text/x-python",
   "name": "python",
   "nbconvert_exporter": "python",
   "pygments_lexer": "ipython3",
   "version": "3.12.0"
  }
 },
 "nbformat": 4,
 "nbformat_minor": 2
}
