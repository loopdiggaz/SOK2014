{
 "cells": [
  {
   "cell_type": "markdown",
   "metadata": {},
   "source": [
    "## Elektrifiseringen av sokkelen - Prosjektoppgave"
   ]
  },
  {
   "cell_type": "markdown",
   "metadata": {},
   "source": [
    "#### Arbeidskrav 1\n",
    "\n",
    " 1. Gjør en vurdering av tiltaket ihht. DFØs veilder og identifiser hvilken informasjon som trengs og hvilke forutsetninger som må gjøres. \n",
    "\n",
    " 2. Innhent informasjon \n",
    "\n",
    " 3. Sette opp en disposisjon/arbeidsplan (bruk veilederen)"
   ]
  },
  {
   "cell_type": "markdown",
   "metadata": {},
   "source": [
    "### Arbeidsfasene \n",
    "\n",
    "1. Beskriv problemet og formuler mål. \n",
    "2. Identifiser og beskriv relevante tiltak. \n",
    "3. Identifiser og beskriv virkinger. \n",
    "4. Tallfest, verdsett og vurder virkninger.\n",
    "5. Vuruder samfunnsøkonomisk lønnsomhet.  \n",
    "6. Gjennomfør usikkherhetslanalyse.\n",
    "7. Beskriv fordelingsvirkninger. \n",
    "8. Gi en samlet vurdering og anbefal tilak.\n",
    "\n",
    "Beslutning. "
   ]
  },
  {
   "cell_type": "markdown",
   "metadata": {},
   "source": [
    "### Disposisjon \n",
    "\n",
    "- Beskriv problemet og gi bakgrunns info.\n",
    "\n",
    "Adresser utslippene av klimagasser fra olje- og gasssektoren, og hvordan de påvirker det nasjonale og globale klimaet. Finn ut hvilke forutsetninger som må gjøres. \n",
    "\n",
    "- Sammendrag av hovedfunn og anbefalinger.\n",
    " \n",
    "Gi et sammendrag av de viktigste funnene fra analysen. \n",
    "\n",
    "- Datakilder, metode og andre sentrale forutsetninger.\n",
    "\n",
    "Viktig at data er lett tilgjengelige, slik at resultatene kan kvalitets sjekkes.  \n",
    " \n",
    "- Hva er problemet og hva vil vi oppnå. \n",
    "\n",
    "Beskriv problemene knyttet til CO2 utslipp på sokkelen, og forklarer målet ved tiltaket. \n",
    "\n",
    "- Hvilke tiltak er relevante?\n",
    "\n",
    "Presenter og beskriv relevante tiltak.\n",
    "\n",
    "- Hvilke prinsipille spørsmål reiser tiltakene?\n",
    "\n",
    "Prinsipielle spørsmål kan innebære å utelukke eller begrunne begrensninger på utformingen av alternative tiltak som er identifisert. \n",
    "\n",
    "- Hva er de positive og negative virknignene av tiltakene, hvor varige er de, og hvem blir berørt?\n",
    "\n",
    "Identifiser virkninger. Tallfest, verdsett og vurder virkninger. Vurder samfunnsøkonomisk lønnsomhet. \n",
    "\n",
    "- Hvilke tiltak anbefales, og hvorfor? \n",
    "\n",
    "Gi en samlet vurdering og anbefal tiltak. Presenter en plan for når og hvordan tiltaket skal evalureres (?)\n",
    "\n",
    "- Hva er forutsetnignene for en vellykket gjennomføring?\n",
    "\n",
    "Synliggjør for beslutningstakeren sentrale forutsetnigner som må være oppfylt for at tiltaket skal lykkes, og utarbeide en gevinstoversikt. \n",
    "\n",
    "- Eventuelle tillegsanalyser: Fordelingsvirkninger, prinsipielle spørsmål, vurdering av graden av måloppnåelse eller målkonflikter og netto ringvirkninger. \n",
    "\n",
    "\n",
    "Hentet fra (DFØ, u.å)"
   ]
  },
  {
   "cell_type": "markdown",
   "metadata": {},
   "source": [
    "## Grovanalyse \n",
    "    \n",
    "1. Hva er problemet, og hva vil vi oppnå?\n",
    "\n",
    "Utredningen skal addressere er utslippene av klimagasser fra olje- og gassektoren og hvordan disse påvirker det nasjonale og globale klimaet.\n",
    "\n",
    "I dag er det over 160 gassturbiner som brukes til å produsere kraft på norsk sokkel, og som utgjør med fakling (etterforbrenning for å blir kvitt overflødig gass) 90.6% av de samlede CO2 - utslipene (Equinor u.å). Elektrifiseringen av denne sektoren har som mål å redusere utslippene gjennom en overgang fra å bruke fossile brensler offshore til fornybar eller lavutslipp energikilder fra land. \n",
    "\n",
    "Resultatet av en slik elektrifiseringen er avhengig av flere faktorer: En viktig forutsetning er hvordan gassen som frigjøres fra plattformene anvendes, noe som henger sammen med de ulike virkningsgradene når gass blir brukt til produksjon. Ulike metoder for å bruke gass vil ha forskjellige virkningsgrader, for eksempel vil en gassturbin på sokkelen ha en annen virkningsgrad sammenlignet med et landbasert kraftverk. Høy virknigsgrad gir et mer energieffektivt forbruk av gass, sagt på en annen måte fører en lavere virkingsgrad til et større energitap, der en lavere andel av gassen blir omdannet til nyttig energi. I tilegg spiller det en viktig rolle om bruken av den frigjorte gassen regnes som et tilegg til produksjonen, eller om den erstatter annen produksjon. Dersom den frigjorte gassen benyttes til nye formål uten å redusere bruken av andre energikilder, vil dette bare være et tilegg som ikke nødvendigvis reduserer det totale utslippet. Ideelt sett bør bruken av frigjort gass se på muligheter for å erstatte mer forurensende energikilder, slik som kull eller olje. Dette vil redusere netto CO2 - utslipp.  \n",
    "\n",
    "For elektrifiseringen av sokkelen, vil et nullalternativ se slik ut:\n",
    "Ingen elektrifisering vil medføre at plattformene fortsetter å bruke gassturbiner for kraftproduksjon og behov på plattformene. Fakling av gass vil fortsette som en løsning for å håndtere overskuddsgass som ikke kan anvendes eller transporteres. Energiforsyningen til plattformene vil være basert på fossile brensler, med tilhørende utslipp, ingen implementering av fornybare energikilder eller alternative lavutslippskilder fra land. \n",
    "CO2 - utslippene vil forbli på samme nivå eller økes som følge av aldring av plattformene. Dette vil påvirke Norge sine muligheter til å nå nasjonale og globale klimamål. Norge vil som en konsekvens av dette fortsette å stå ovenfor press fra internasjonale og nasjonale klimaforpliktelser. Potensielt sett vil Norge møte kritikk og økt offentlig og politisk press for å ikke tilpasse seg til moderne klimakrav. \n",
    "Vedlikehold av turbiner vil fortsette å kreve betydelige investeringer. Potensielt høyere langsiktige driftskostnader på grunn av stigende priser på fossilebrensler og karbon avgifter. \n",
    "CO2 - utslippene vil også ha en rekke negative påvirkninger på lokalt og globalt miljø gjennom utslipp av klimagasser, det er også potensielle helsemessige og økologiske konsekvenser for ansatte og marine økosystemer i nærhetene av plattformene. \n",
    "\n",
    "Elektrifiseringen tar sikte på å oppnå klimamål i Norge samtidig som det skal bidra til en reduksjon av de europeiske og globale klimagassutslippene via markedsendringer i kraft- og gassmarkedene. Selvom det norske kraftsystemet i hovedsak er basert på vannkraft, er det norske systemet knyttet til det nordiske og europeiske markedet. Det er netto CO2 - utslipp som er interessant her, og derfor vil det være sentralt å analysere hvordan elektrifiseringen påvirker markedet, og hvordan endringen i markedssammensetningen påvirker det globale utslippet. \n",
    "\n",
    "\n",
    "2. Hvilke tiltak er relevante?\n",
    "\n",
    "Relevante tiltak er:\n",
    "\n",
    "- Implementering av elektrifiseringsprosjekter på norsk sokkel, som for eksempel å erstatte gassturbiner med kraft fra land. \n",
    "- Øke investeringene i fornybar energi og lavutslipps kraftproduksjon i Europa for å møte det økte kraftbehovet fra norsk sokkel. \n",
    "- Et lavere og mer effektivt energiforbruk offshore for å maksimere klimanytten av elektrifisering. \n",
    "\n",
    "3. Hvilke prinsipielle spørsmål reiser tiltakene?\n",
    "\n",
    "Prinsipielle spørsmål: \n",
    "\n",
    "- Rettferdigheten av kostnadsfordelingen mellom oljeselskapene og samfunnet, spesielt i forhold til hvem som må bære kostnadene for infrastrukturinvesteringer. \n",
    "- Langsiktig holdbarhet og politisk engasjement for å opprettholde støtte til elektrifiseringsprosjekter. \n",
    "- Effekten av elektrifiserig på karbonlekkasje, hvor reduksjoner i et område kan føre til øke utslipp et annet sted gjennom markedsendringer.\n",
    "\n",
    "Notat:\n",
    "\n",
    "Utredninger av prinsipielle hensyn, inngår ikke i samfunnsøkonomiske analyser, men vil kreve en egen analyse. Videre følger det av Finansdepartementets rundskriv for samfunnsøkonomiske analyser, R-109/2021, at en utredning av eventuelle fordelingsvirkninger og netto ringvirkninger skal tas med som tilleggsanalyser der de er relevante (Direktoratet for forvaltning og økonomistyring (DFØ), u.å.)\n",
    "\n",
    "4. Hva er de positive og negative virkningene av tiltakene, hvor varige er de, og hvem blir berørt? \n",
    "\n",
    "- Positive virkinger: Reduksjon av utslipp av klimagasser i både Norge og Europa, bedre energieffektivietet, og muligens lavere driftskostnader over tid. Disse effektene er tenkt å være varige, spesielt med økt installasjon av fornybar energi. \n",
    "\n",
    "- Negative virkninger: Høye initiale investeringskostander og potensiell økonomisk risiko for oljeselskaper og investorer. Markedsforstyrrelser, som kan inkludere prisendringer i kraftmarkedet kan også oppstå. \n",
    "\n",
    "Blandt de berørete parter er oljeselskaper, norske skattebetalere, leverandørindustrien, og i bredere forstand samfunn i Europa, globalt gitte klimaeffekter, og energimarkedsforhold. Virkningene kan betraktes som langtidsvirkninger.\n",
    "\n",
    "Problemstillinger: \n",
    "\n",
    "Stortingsmeldingen om verdiskaping fra norske energiressurser, den såkalte Energimeldingen, skriver at den globale klimaeffekten av elektrifisering er usikker: «Kraft fra land reduserer utslippene fra norsk sokkel. Effektene på utslippene på kort og lang sikt på europeisk og globalt nivå er mer usikre». Usikkerheten rundt konsekvensene av elektrifiseringen fører til flere problematiske spørsmål:\n",
    "\n",
    "- Hva er forutsetningene for en vellykket gjennomføring? \n",
    "- Vil en kostbar elektrifisering føre til reduserte klimautslipp nasjonalt og globalt?\n",
    "- Hvilken effekt har elektrifiseringen på det globale kraftmarkedet?\n",
    "\n",
    "Videre er det naturlig å stille spørsmål knyttet til de samfunnsøkonomiske effektene:\n",
    "\n",
    "- Er elektrifiseringen samfunnsøkonomisk lønnsom? \n",
    "- Hvor effektivt er tiltaket sammenlignet med andre tiltak som fordrer elektrifisering?\n"
   ]
  },
  {
   "cell_type": "markdown",
   "metadata": {},
   "source": [
    "#### Litteraturhenvisning \n",
    "\n",
    "Direktoratet for forvaltning og økonomistyring (DFØ), u.å. Veileder i samfunnsøkonomiske analyser: En innføring i hvordan statlige tiltak skal utredes. Tilgjengelig på: https://dfo.no/fagomrader/utredning-og-analyse-av-statlige-tiltak/samfunnsokonomiske-analyser/veileder-i-samfunnsokonomiske-analyser/1-en-innforing-i-hvordan-statlige-tiltak-skal-utredes (02.09.2024).\n",
    "\n",
    "Tennbakk, B., Næss Jebsen, S. H., Kirchner, B., & Eriksrud, A. L. (2023). Elektrifisering av olje- og gassektoren – har det global klimaeffekt? Rapportnummer 2022-23. Offshore Norge. Tilgjengelig fra: https://uit-sok-2014-h24.github.io/articles/Veileder_samfunnsokonomiske_analyser_nov23.pdf"
   ]
  }
 ],
 "metadata": {
  "kernelspec": {
   "display_name": "Python 3",
   "language": "python",
   "name": "python3"
  },
  "language_info": {
   "codemirror_mode": {
    "name": "ipython",
    "version": 3
   },
   "file_extension": ".py",
   "mimetype": "text/x-python",
   "name": "python",
   "nbconvert_exporter": "python",
   "pygments_lexer": "ipython3",
   "version": "3.12.0"
  }
 },
 "nbformat": 4,
 "nbformat_minor": 2
}
